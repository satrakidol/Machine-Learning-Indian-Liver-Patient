{
  "nbformat": 4,
  "nbformat_minor": 0,
  "metadata": {
    "colab": {
      "provenance": [],
      "include_colab_link": true
    },
    "kernelspec": {
      "name": "python3",
      "display_name": "Python 3"
    },
    "language_info": {
      "name": "python"
    }
  },
  "cells": [
    {
      "cell_type": "markdown",
      "metadata": {
        "id": "view-in-github",
        "colab_type": "text"
      },
      "source": [
        "<a href=\"https://colab.research.google.com/github/satrakidol/Machine-Learning-Indian-Liver-Patient/blob/main/Copy_of_Machine_Learning_Indian_Liver_Patient.ipynb\" target=\"_parent\"><img src=\"https://colab.research.google.com/assets/colab-badge.svg\" alt=\"Open In Colab\"/></a>"
      ]
    },
    {
      "cell_type": "markdown",
      "source": [
        "#Μέρος 3: Εφαρμογή σε άλλο σύνολο δεδομένων πίνακα"
      ],
      "metadata": {
        "id": "jV4PCpknZPH0"
      }
    },
    {
      "cell_type": "code",
      "execution_count": null,
      "metadata": {
        "id": "s03nbsrbZKQl"
      },
      "outputs": [],
      "source": [
        "# Load libraries\n",
        "import pandas as pd\n",
        "import matplotlib.pyplot as plt\n",
        "import missingno as msng\n",
        "import seaborn as sns\n",
        "import numpy as np\n",
        "import tensorflow as tf"
      ]
    },
    {
      "cell_type": "code",
      "source": [
        "# read dataset\n",
        "Liver = pd.read_csv(\"/content/Indian Liver Patient Dataset (ILPD).csv\")"
      ],
      "metadata": {
        "id": "F6QBlFtvaiJl"
      },
      "execution_count": null,
      "outputs": []
    },
    {
      "cell_type": "code",
      "source": [
        "Liver.info()"
      ],
      "metadata": {
        "id": "vVBZ6tg4bR1D",
        "colab": {
          "base_uri": "https://localhost:8080/"
        },
        "outputId": "47117045-92fb-48a4-e995-966e11fc92b8"
      },
      "execution_count": null,
      "outputs": [
        {
          "output_type": "stream",
          "name": "stdout",
          "text": [
            "<class 'pandas.core.frame.DataFrame'>\n",
            "RangeIndex: 582 entries, 0 to 581\n",
            "Data columns (total 11 columns):\n",
            " #   Column  Non-Null Count  Dtype  \n",
            "---  ------  --------------  -----  \n",
            " 0   65      582 non-null    int64  \n",
            " 1   Female  582 non-null    object \n",
            " 2   0.7     582 non-null    float64\n",
            " 3   0.1     582 non-null    float64\n",
            " 4   187     582 non-null    int64  \n",
            " 5   16      582 non-null    int64  \n",
            " 6   18      582 non-null    int64  \n",
            " 7   6.8     582 non-null    float64\n",
            " 8   3.3     582 non-null    float64\n",
            " 9   0.9     578 non-null    float64\n",
            " 10  1       582 non-null    int64  \n",
            "dtypes: float64(5), int64(5), object(1)\n",
            "memory usage: 50.1+ KB\n"
          ]
        }
      ]
    },
    {
      "cell_type": "code",
      "source": [
        "Liver.head()"
      ],
      "metadata": {
        "id": "5pOZ1MOAbk6C",
        "colab": {
          "base_uri": "https://localhost:8080/",
          "height": 206
        },
        "outputId": "d849a7fc-d144-49d2-dc5f-ec63cc3eaa63"
      },
      "execution_count": null,
      "outputs": [
        {
          "output_type": "execute_result",
          "data": {
            "text/plain": [
              "   65 Female   0.7  0.1  187  16   18  6.8  3.3   0.9  1\n",
              "0  62   Male  10.9  5.5  699  64  100  7.5  3.2  0.74  1\n",
              "1  62   Male   7.3  4.1  490  60   68  7.0  3.3  0.89  1\n",
              "2  58   Male   1.0  0.4  182  14   20  6.8  3.4  1.00  1\n",
              "3  72   Male   3.9  2.0  195  27   59  7.3  2.4  0.40  1\n",
              "4  46   Male   1.8  0.7  208  19   14  7.6  4.4  1.30  1"
            ],
            "text/html": [
              "\n",
              "\n",
              "  <div id=\"df-854b52f5-f1f3-4d5d-8556-642e335bf318\">\n",
              "    <div class=\"colab-df-container\">\n",
              "      <div>\n",
              "<style scoped>\n",
              "    .dataframe tbody tr th:only-of-type {\n",
              "        vertical-align: middle;\n",
              "    }\n",
              "\n",
              "    .dataframe tbody tr th {\n",
              "        vertical-align: top;\n",
              "    }\n",
              "\n",
              "    .dataframe thead th {\n",
              "        text-align: right;\n",
              "    }\n",
              "</style>\n",
              "<table border=\"1\" class=\"dataframe\">\n",
              "  <thead>\n",
              "    <tr style=\"text-align: right;\">\n",
              "      <th></th>\n",
              "      <th>65</th>\n",
              "      <th>Female</th>\n",
              "      <th>0.7</th>\n",
              "      <th>0.1</th>\n",
              "      <th>187</th>\n",
              "      <th>16</th>\n",
              "      <th>18</th>\n",
              "      <th>6.8</th>\n",
              "      <th>3.3</th>\n",
              "      <th>0.9</th>\n",
              "      <th>1</th>\n",
              "    </tr>\n",
              "  </thead>\n",
              "  <tbody>\n",
              "    <tr>\n",
              "      <th>0</th>\n",
              "      <td>62</td>\n",
              "      <td>Male</td>\n",
              "      <td>10.9</td>\n",
              "      <td>5.5</td>\n",
              "      <td>699</td>\n",
              "      <td>64</td>\n",
              "      <td>100</td>\n",
              "      <td>7.5</td>\n",
              "      <td>3.2</td>\n",
              "      <td>0.74</td>\n",
              "      <td>1</td>\n",
              "    </tr>\n",
              "    <tr>\n",
              "      <th>1</th>\n",
              "      <td>62</td>\n",
              "      <td>Male</td>\n",
              "      <td>7.3</td>\n",
              "      <td>4.1</td>\n",
              "      <td>490</td>\n",
              "      <td>60</td>\n",
              "      <td>68</td>\n",
              "      <td>7.0</td>\n",
              "      <td>3.3</td>\n",
              "      <td>0.89</td>\n",
              "      <td>1</td>\n",
              "    </tr>\n",
              "    <tr>\n",
              "      <th>2</th>\n",
              "      <td>58</td>\n",
              "      <td>Male</td>\n",
              "      <td>1.0</td>\n",
              "      <td>0.4</td>\n",
              "      <td>182</td>\n",
              "      <td>14</td>\n",
              "      <td>20</td>\n",
              "      <td>6.8</td>\n",
              "      <td>3.4</td>\n",
              "      <td>1.00</td>\n",
              "      <td>1</td>\n",
              "    </tr>\n",
              "    <tr>\n",
              "      <th>3</th>\n",
              "      <td>72</td>\n",
              "      <td>Male</td>\n",
              "      <td>3.9</td>\n",
              "      <td>2.0</td>\n",
              "      <td>195</td>\n",
              "      <td>27</td>\n",
              "      <td>59</td>\n",
              "      <td>7.3</td>\n",
              "      <td>2.4</td>\n",
              "      <td>0.40</td>\n",
              "      <td>1</td>\n",
              "    </tr>\n",
              "    <tr>\n",
              "      <th>4</th>\n",
              "      <td>46</td>\n",
              "      <td>Male</td>\n",
              "      <td>1.8</td>\n",
              "      <td>0.7</td>\n",
              "      <td>208</td>\n",
              "      <td>19</td>\n",
              "      <td>14</td>\n",
              "      <td>7.6</td>\n",
              "      <td>4.4</td>\n",
              "      <td>1.30</td>\n",
              "      <td>1</td>\n",
              "    </tr>\n",
              "  </tbody>\n",
              "</table>\n",
              "</div>\n",
              "      <button class=\"colab-df-convert\" onclick=\"convertToInteractive('df-854b52f5-f1f3-4d5d-8556-642e335bf318')\"\n",
              "              title=\"Convert this dataframe to an interactive table.\"\n",
              "              style=\"display:none;\">\n",
              "\n",
              "  <svg xmlns=\"http://www.w3.org/2000/svg\" height=\"24px\"viewBox=\"0 0 24 24\"\n",
              "       width=\"24px\">\n",
              "    <path d=\"M0 0h24v24H0V0z\" fill=\"none\"/>\n",
              "    <path d=\"M18.56 5.44l.94 2.06.94-2.06 2.06-.94-2.06-.94-.94-2.06-.94 2.06-2.06.94zm-11 1L8.5 8.5l.94-2.06 2.06-.94-2.06-.94L8.5 2.5l-.94 2.06-2.06.94zm10 10l.94 2.06.94-2.06 2.06-.94-2.06-.94-.94-2.06-.94 2.06-2.06.94z\"/><path d=\"M17.41 7.96l-1.37-1.37c-.4-.4-.92-.59-1.43-.59-.52 0-1.04.2-1.43.59L10.3 9.45l-7.72 7.72c-.78.78-.78 2.05 0 2.83L4 21.41c.39.39.9.59 1.41.59.51 0 1.02-.2 1.41-.59l7.78-7.78 2.81-2.81c.8-.78.8-2.07 0-2.86zM5.41 20L4 18.59l7.72-7.72 1.47 1.35L5.41 20z\"/>\n",
              "  </svg>\n",
              "      </button>\n",
              "\n",
              "\n",
              "\n",
              "    <div id=\"df-193caa33-25a8-4d3b-94e4-6307a9580c39\">\n",
              "      <button class=\"colab-df-quickchart\" onclick=\"quickchart('df-193caa33-25a8-4d3b-94e4-6307a9580c39')\"\n",
              "              title=\"Suggest charts.\"\n",
              "              style=\"display:none;\">\n",
              "\n",
              "<svg xmlns=\"http://www.w3.org/2000/svg\" height=\"24px\"viewBox=\"0 0 24 24\"\n",
              "     width=\"24px\">\n",
              "    <g>\n",
              "        <path d=\"M19 3H5c-1.1 0-2 .9-2 2v14c0 1.1.9 2 2 2h14c1.1 0 2-.9 2-2V5c0-1.1-.9-2-2-2zM9 17H7v-7h2v7zm4 0h-2V7h2v10zm4 0h-2v-4h2v4z\"/>\n",
              "    </g>\n",
              "</svg>\n",
              "      </button>\n",
              "    </div>\n",
              "\n",
              "<style>\n",
              "  .colab-df-quickchart {\n",
              "    background-color: #E8F0FE;\n",
              "    border: none;\n",
              "    border-radius: 50%;\n",
              "    cursor: pointer;\n",
              "    display: none;\n",
              "    fill: #1967D2;\n",
              "    height: 32px;\n",
              "    padding: 0 0 0 0;\n",
              "    width: 32px;\n",
              "  }\n",
              "\n",
              "  .colab-df-quickchart:hover {\n",
              "    background-color: #E2EBFA;\n",
              "    box-shadow: 0px 1px 2px rgba(60, 64, 67, 0.3), 0px 1px 3px 1px rgba(60, 64, 67, 0.15);\n",
              "    fill: #174EA6;\n",
              "  }\n",
              "\n",
              "  [theme=dark] .colab-df-quickchart {\n",
              "    background-color: #3B4455;\n",
              "    fill: #D2E3FC;\n",
              "  }\n",
              "\n",
              "  [theme=dark] .colab-df-quickchart:hover {\n",
              "    background-color: #434B5C;\n",
              "    box-shadow: 0px 1px 3px 1px rgba(0, 0, 0, 0.15);\n",
              "    filter: drop-shadow(0px 1px 2px rgba(0, 0, 0, 0.3));\n",
              "    fill: #FFFFFF;\n",
              "  }\n",
              "</style>\n",
              "\n",
              "    <script>\n",
              "      async function quickchart(key) {\n",
              "        const containerElement = document.querySelector('#' + key);\n",
              "        const charts = await google.colab.kernel.invokeFunction(\n",
              "            'suggestCharts', [key], {});\n",
              "      }\n",
              "    </script>\n",
              "\n",
              "      <script>\n",
              "\n",
              "function displayQuickchartButton(domScope) {\n",
              "  let quickchartButtonEl =\n",
              "    domScope.querySelector('#df-193caa33-25a8-4d3b-94e4-6307a9580c39 button.colab-df-quickchart');\n",
              "  quickchartButtonEl.style.display =\n",
              "    google.colab.kernel.accessAllowed ? 'block' : 'none';\n",
              "}\n",
              "\n",
              "        displayQuickchartButton(document);\n",
              "      </script>\n",
              "      <style>\n",
              "    .colab-df-container {\n",
              "      display:flex;\n",
              "      flex-wrap:wrap;\n",
              "      gap: 12px;\n",
              "    }\n",
              "\n",
              "    .colab-df-convert {\n",
              "      background-color: #E8F0FE;\n",
              "      border: none;\n",
              "      border-radius: 50%;\n",
              "      cursor: pointer;\n",
              "      display: none;\n",
              "      fill: #1967D2;\n",
              "      height: 32px;\n",
              "      padding: 0 0 0 0;\n",
              "      width: 32px;\n",
              "    }\n",
              "\n",
              "    .colab-df-convert:hover {\n",
              "      background-color: #E2EBFA;\n",
              "      box-shadow: 0px 1px 2px rgba(60, 64, 67, 0.3), 0px 1px 3px 1px rgba(60, 64, 67, 0.15);\n",
              "      fill: #174EA6;\n",
              "    }\n",
              "\n",
              "    [theme=dark] .colab-df-convert {\n",
              "      background-color: #3B4455;\n",
              "      fill: #D2E3FC;\n",
              "    }\n",
              "\n",
              "    [theme=dark] .colab-df-convert:hover {\n",
              "      background-color: #434B5C;\n",
              "      box-shadow: 0px 1px 3px 1px rgba(0, 0, 0, 0.15);\n",
              "      filter: drop-shadow(0px 1px 2px rgba(0, 0, 0, 0.3));\n",
              "      fill: #FFFFFF;\n",
              "    }\n",
              "  </style>\n",
              "\n",
              "      <script>\n",
              "        const buttonEl =\n",
              "          document.querySelector('#df-854b52f5-f1f3-4d5d-8556-642e335bf318 button.colab-df-convert');\n",
              "        buttonEl.style.display =\n",
              "          google.colab.kernel.accessAllowed ? 'block' : 'none';\n",
              "\n",
              "        async function convertToInteractive(key) {\n",
              "          const element = document.querySelector('#df-854b52f5-f1f3-4d5d-8556-642e335bf318');\n",
              "          const dataTable =\n",
              "            await google.colab.kernel.invokeFunction('convertToInteractive',\n",
              "                                                     [key], {});\n",
              "          if (!dataTable) return;\n",
              "\n",
              "          const docLinkHtml = 'Like what you see? Visit the ' +\n",
              "            '<a target=\"_blank\" href=https://colab.research.google.com/notebooks/data_table.ipynb>data table notebook</a>'\n",
              "            + ' to learn more about interactive tables.';\n",
              "          element.innerHTML = '';\n",
              "          dataTable['output_type'] = 'display_data';\n",
              "          await google.colab.output.renderOutput(dataTable, element);\n",
              "          const docLink = document.createElement('div');\n",
              "          docLink.innerHTML = docLinkHtml;\n",
              "          element.appendChild(docLink);\n",
              "        }\n",
              "      </script>\n",
              "    </div>\n",
              "  </div>\n"
            ]
          },
          "metadata": {},
          "execution_count": 53
        }
      ]
    },
    {
      "cell_type": "code",
      "source": [
        "#checking if the last column is the one specifying if someone is liver patient or not\n",
        "counter = 1\n",
        "\n",
        "for i in Liver[\"1\"]:\n",
        "  if i == 1:\n",
        "    counter = counter+1\n",
        "\n",
        "print(counter)"
      ],
      "metadata": {
        "id": "Kv1bfVe7kmuG",
        "colab": {
          "base_uri": "https://localhost:8080/"
        },
        "outputId": "0cb3e8d2-2e56-4e82-89e1-b35add8918cd"
      },
      "execution_count": null,
      "outputs": [
        {
          "output_type": "stream",
          "name": "stdout",
          "text": [
            "416\n"
          ]
        }
      ]
    },
    {
      "cell_type": "markdown",
      "source": [
        "Based on the total number of 1, I believe that 1 means liver patient in that df"
      ],
      "metadata": {
        "id": "7NToGZlJnQvE"
      }
    },
    {
      "cell_type": "markdown",
      "source": [
        "Reading CSV without header"
      ],
      "metadata": {
        "id": "orZgHXiOowW-"
      }
    },
    {
      "cell_type": "code",
      "source": [
        "Liver = pd.read_csv(\"/content/Indian Liver Patient Dataset (ILPD).csv\", header=None)"
      ],
      "metadata": {
        "id": "ll-0b7zzo128"
      },
      "execution_count": null,
      "outputs": []
    },
    {
      "cell_type": "code",
      "source": [
        "Liver.describe()"
      ],
      "metadata": {
        "id": "r9IYAkOtc2GY",
        "colab": {
          "base_uri": "https://localhost:8080/",
          "height": 364
        },
        "outputId": "0a07efe9-1ba7-47f2-f379-279299d0650f"
      },
      "execution_count": null,
      "outputs": [
        {
          "output_type": "execute_result",
          "data": {
            "text/plain": [
              "               0           2           3            4            5   \\\n",
              "count  583.000000  583.000000  583.000000   583.000000   583.000000   \n",
              "mean    44.746141    3.298799    1.486106   290.576329    80.713551   \n",
              "std     16.189833    6.209522    2.808498   242.937989   182.620356   \n",
              "min      4.000000    0.400000    0.100000    63.000000    10.000000   \n",
              "25%     33.000000    0.800000    0.200000   175.500000    23.000000   \n",
              "50%     45.000000    1.000000    0.300000   208.000000    35.000000   \n",
              "75%     58.000000    2.600000    1.300000   298.000000    60.500000   \n",
              "max     90.000000   75.000000   19.700000  2110.000000  2000.000000   \n",
              "\n",
              "                6           7           8           9           10  \n",
              "count   583.000000  583.000000  583.000000  579.000000  583.000000  \n",
              "mean    109.910806    6.483190    3.141852    0.947064    1.286449  \n",
              "std     288.918529    1.085451    0.795519    0.319592    0.452490  \n",
              "min      10.000000    2.700000    0.900000    0.300000    1.000000  \n",
              "25%      25.000000    5.800000    2.600000    0.700000    1.000000  \n",
              "50%      42.000000    6.600000    3.100000    0.930000    1.000000  \n",
              "75%      87.000000    7.200000    3.800000    1.100000    2.000000  \n",
              "max    4929.000000    9.600000    5.500000    2.800000    2.000000  "
            ],
            "text/html": [
              "\n",
              "\n",
              "  <div id=\"df-d803d98a-aadf-435f-a77e-98e956f9db7a\">\n",
              "    <div class=\"colab-df-container\">\n",
              "      <div>\n",
              "<style scoped>\n",
              "    .dataframe tbody tr th:only-of-type {\n",
              "        vertical-align: middle;\n",
              "    }\n",
              "\n",
              "    .dataframe tbody tr th {\n",
              "        vertical-align: top;\n",
              "    }\n",
              "\n",
              "    .dataframe thead th {\n",
              "        text-align: right;\n",
              "    }\n",
              "</style>\n",
              "<table border=\"1\" class=\"dataframe\">\n",
              "  <thead>\n",
              "    <tr style=\"text-align: right;\">\n",
              "      <th></th>\n",
              "      <th>0</th>\n",
              "      <th>2</th>\n",
              "      <th>3</th>\n",
              "      <th>4</th>\n",
              "      <th>5</th>\n",
              "      <th>6</th>\n",
              "      <th>7</th>\n",
              "      <th>8</th>\n",
              "      <th>9</th>\n",
              "      <th>10</th>\n",
              "    </tr>\n",
              "  </thead>\n",
              "  <tbody>\n",
              "    <tr>\n",
              "      <th>count</th>\n",
              "      <td>583.000000</td>\n",
              "      <td>583.000000</td>\n",
              "      <td>583.000000</td>\n",
              "      <td>583.000000</td>\n",
              "      <td>583.000000</td>\n",
              "      <td>583.000000</td>\n",
              "      <td>583.000000</td>\n",
              "      <td>583.000000</td>\n",
              "      <td>579.000000</td>\n",
              "      <td>583.000000</td>\n",
              "    </tr>\n",
              "    <tr>\n",
              "      <th>mean</th>\n",
              "      <td>44.746141</td>\n",
              "      <td>3.298799</td>\n",
              "      <td>1.486106</td>\n",
              "      <td>290.576329</td>\n",
              "      <td>80.713551</td>\n",
              "      <td>109.910806</td>\n",
              "      <td>6.483190</td>\n",
              "      <td>3.141852</td>\n",
              "      <td>0.947064</td>\n",
              "      <td>1.286449</td>\n",
              "    </tr>\n",
              "    <tr>\n",
              "      <th>std</th>\n",
              "      <td>16.189833</td>\n",
              "      <td>6.209522</td>\n",
              "      <td>2.808498</td>\n",
              "      <td>242.937989</td>\n",
              "      <td>182.620356</td>\n",
              "      <td>288.918529</td>\n",
              "      <td>1.085451</td>\n",
              "      <td>0.795519</td>\n",
              "      <td>0.319592</td>\n",
              "      <td>0.452490</td>\n",
              "    </tr>\n",
              "    <tr>\n",
              "      <th>min</th>\n",
              "      <td>4.000000</td>\n",
              "      <td>0.400000</td>\n",
              "      <td>0.100000</td>\n",
              "      <td>63.000000</td>\n",
              "      <td>10.000000</td>\n",
              "      <td>10.000000</td>\n",
              "      <td>2.700000</td>\n",
              "      <td>0.900000</td>\n",
              "      <td>0.300000</td>\n",
              "      <td>1.000000</td>\n",
              "    </tr>\n",
              "    <tr>\n",
              "      <th>25%</th>\n",
              "      <td>33.000000</td>\n",
              "      <td>0.800000</td>\n",
              "      <td>0.200000</td>\n",
              "      <td>175.500000</td>\n",
              "      <td>23.000000</td>\n",
              "      <td>25.000000</td>\n",
              "      <td>5.800000</td>\n",
              "      <td>2.600000</td>\n",
              "      <td>0.700000</td>\n",
              "      <td>1.000000</td>\n",
              "    </tr>\n",
              "    <tr>\n",
              "      <th>50%</th>\n",
              "      <td>45.000000</td>\n",
              "      <td>1.000000</td>\n",
              "      <td>0.300000</td>\n",
              "      <td>208.000000</td>\n",
              "      <td>35.000000</td>\n",
              "      <td>42.000000</td>\n",
              "      <td>6.600000</td>\n",
              "      <td>3.100000</td>\n",
              "      <td>0.930000</td>\n",
              "      <td>1.000000</td>\n",
              "    </tr>\n",
              "    <tr>\n",
              "      <th>75%</th>\n",
              "      <td>58.000000</td>\n",
              "      <td>2.600000</td>\n",
              "      <td>1.300000</td>\n",
              "      <td>298.000000</td>\n",
              "      <td>60.500000</td>\n",
              "      <td>87.000000</td>\n",
              "      <td>7.200000</td>\n",
              "      <td>3.800000</td>\n",
              "      <td>1.100000</td>\n",
              "      <td>2.000000</td>\n",
              "    </tr>\n",
              "    <tr>\n",
              "      <th>max</th>\n",
              "      <td>90.000000</td>\n",
              "      <td>75.000000</td>\n",
              "      <td>19.700000</td>\n",
              "      <td>2110.000000</td>\n",
              "      <td>2000.000000</td>\n",
              "      <td>4929.000000</td>\n",
              "      <td>9.600000</td>\n",
              "      <td>5.500000</td>\n",
              "      <td>2.800000</td>\n",
              "      <td>2.000000</td>\n",
              "    </tr>\n",
              "  </tbody>\n",
              "</table>\n",
              "</div>\n",
              "      <button class=\"colab-df-convert\" onclick=\"convertToInteractive('df-d803d98a-aadf-435f-a77e-98e956f9db7a')\"\n",
              "              title=\"Convert this dataframe to an interactive table.\"\n",
              "              style=\"display:none;\">\n",
              "\n",
              "  <svg xmlns=\"http://www.w3.org/2000/svg\" height=\"24px\"viewBox=\"0 0 24 24\"\n",
              "       width=\"24px\">\n",
              "    <path d=\"M0 0h24v24H0V0z\" fill=\"none\"/>\n",
              "    <path d=\"M18.56 5.44l.94 2.06.94-2.06 2.06-.94-2.06-.94-.94-2.06-.94 2.06-2.06.94zm-11 1L8.5 8.5l.94-2.06 2.06-.94-2.06-.94L8.5 2.5l-.94 2.06-2.06.94zm10 10l.94 2.06.94-2.06 2.06-.94-2.06-.94-.94-2.06-.94 2.06-2.06.94z\"/><path d=\"M17.41 7.96l-1.37-1.37c-.4-.4-.92-.59-1.43-.59-.52 0-1.04.2-1.43.59L10.3 9.45l-7.72 7.72c-.78.78-.78 2.05 0 2.83L4 21.41c.39.39.9.59 1.41.59.51 0 1.02-.2 1.41-.59l7.78-7.78 2.81-2.81c.8-.78.8-2.07 0-2.86zM5.41 20L4 18.59l7.72-7.72 1.47 1.35L5.41 20z\"/>\n",
              "  </svg>\n",
              "      </button>\n",
              "\n",
              "\n",
              "\n",
              "    <div id=\"df-e7dc36fb-db1e-4652-9b82-f21c8110a34b\">\n",
              "      <button class=\"colab-df-quickchart\" onclick=\"quickchart('df-e7dc36fb-db1e-4652-9b82-f21c8110a34b')\"\n",
              "              title=\"Suggest charts.\"\n",
              "              style=\"display:none;\">\n",
              "\n",
              "<svg xmlns=\"http://www.w3.org/2000/svg\" height=\"24px\"viewBox=\"0 0 24 24\"\n",
              "     width=\"24px\">\n",
              "    <g>\n",
              "        <path d=\"M19 3H5c-1.1 0-2 .9-2 2v14c0 1.1.9 2 2 2h14c1.1 0 2-.9 2-2V5c0-1.1-.9-2-2-2zM9 17H7v-7h2v7zm4 0h-2V7h2v10zm4 0h-2v-4h2v4z\"/>\n",
              "    </g>\n",
              "</svg>\n",
              "      </button>\n",
              "    </div>\n",
              "\n",
              "<style>\n",
              "  .colab-df-quickchart {\n",
              "    background-color: #E8F0FE;\n",
              "    border: none;\n",
              "    border-radius: 50%;\n",
              "    cursor: pointer;\n",
              "    display: none;\n",
              "    fill: #1967D2;\n",
              "    height: 32px;\n",
              "    padding: 0 0 0 0;\n",
              "    width: 32px;\n",
              "  }\n",
              "\n",
              "  .colab-df-quickchart:hover {\n",
              "    background-color: #E2EBFA;\n",
              "    box-shadow: 0px 1px 2px rgba(60, 64, 67, 0.3), 0px 1px 3px 1px rgba(60, 64, 67, 0.15);\n",
              "    fill: #174EA6;\n",
              "  }\n",
              "\n",
              "  [theme=dark] .colab-df-quickchart {\n",
              "    background-color: #3B4455;\n",
              "    fill: #D2E3FC;\n",
              "  }\n",
              "\n",
              "  [theme=dark] .colab-df-quickchart:hover {\n",
              "    background-color: #434B5C;\n",
              "    box-shadow: 0px 1px 3px 1px rgba(0, 0, 0, 0.15);\n",
              "    filter: drop-shadow(0px 1px 2px rgba(0, 0, 0, 0.3));\n",
              "    fill: #FFFFFF;\n",
              "  }\n",
              "</style>\n",
              "\n",
              "    <script>\n",
              "      async function quickchart(key) {\n",
              "        const containerElement = document.querySelector('#' + key);\n",
              "        const charts = await google.colab.kernel.invokeFunction(\n",
              "            'suggestCharts', [key], {});\n",
              "      }\n",
              "    </script>\n",
              "\n",
              "      <script>\n",
              "\n",
              "function displayQuickchartButton(domScope) {\n",
              "  let quickchartButtonEl =\n",
              "    domScope.querySelector('#df-e7dc36fb-db1e-4652-9b82-f21c8110a34b button.colab-df-quickchart');\n",
              "  quickchartButtonEl.style.display =\n",
              "    google.colab.kernel.accessAllowed ? 'block' : 'none';\n",
              "}\n",
              "\n",
              "        displayQuickchartButton(document);\n",
              "      </script>\n",
              "      <style>\n",
              "    .colab-df-container {\n",
              "      display:flex;\n",
              "      flex-wrap:wrap;\n",
              "      gap: 12px;\n",
              "    }\n",
              "\n",
              "    .colab-df-convert {\n",
              "      background-color: #E8F0FE;\n",
              "      border: none;\n",
              "      border-radius: 50%;\n",
              "      cursor: pointer;\n",
              "      display: none;\n",
              "      fill: #1967D2;\n",
              "      height: 32px;\n",
              "      padding: 0 0 0 0;\n",
              "      width: 32px;\n",
              "    }\n",
              "\n",
              "    .colab-df-convert:hover {\n",
              "      background-color: #E2EBFA;\n",
              "      box-shadow: 0px 1px 2px rgba(60, 64, 67, 0.3), 0px 1px 3px 1px rgba(60, 64, 67, 0.15);\n",
              "      fill: #174EA6;\n",
              "    }\n",
              "\n",
              "    [theme=dark] .colab-df-convert {\n",
              "      background-color: #3B4455;\n",
              "      fill: #D2E3FC;\n",
              "    }\n",
              "\n",
              "    [theme=dark] .colab-df-convert:hover {\n",
              "      background-color: #434B5C;\n",
              "      box-shadow: 0px 1px 3px 1px rgba(0, 0, 0, 0.15);\n",
              "      filter: drop-shadow(0px 1px 2px rgba(0, 0, 0, 0.3));\n",
              "      fill: #FFFFFF;\n",
              "    }\n",
              "  </style>\n",
              "\n",
              "      <script>\n",
              "        const buttonEl =\n",
              "          document.querySelector('#df-d803d98a-aadf-435f-a77e-98e956f9db7a button.colab-df-convert');\n",
              "        buttonEl.style.display =\n",
              "          google.colab.kernel.accessAllowed ? 'block' : 'none';\n",
              "\n",
              "        async function convertToInteractive(key) {\n",
              "          const element = document.querySelector('#df-d803d98a-aadf-435f-a77e-98e956f9db7a');\n",
              "          const dataTable =\n",
              "            await google.colab.kernel.invokeFunction('convertToInteractive',\n",
              "                                                     [key], {});\n",
              "          if (!dataTable) return;\n",
              "\n",
              "          const docLinkHtml = 'Like what you see? Visit the ' +\n",
              "            '<a target=\"_blank\" href=https://colab.research.google.com/notebooks/data_table.ipynb>data table notebook</a>'\n",
              "            + ' to learn more about interactive tables.';\n",
              "          element.innerHTML = '';\n",
              "          dataTable['output_type'] = 'display_data';\n",
              "          await google.colab.output.renderOutput(dataTable, element);\n",
              "          const docLink = document.createElement('div');\n",
              "          docLink.innerHTML = docLinkHtml;\n",
              "          element.appendChild(docLink);\n",
              "        }\n",
              "      </script>\n",
              "    </div>\n",
              "  </div>\n"
            ]
          },
          "metadata": {},
          "execution_count": 56
        }
      ]
    },
    {
      "cell_type": "code",
      "source": [
        "Liver.shape"
      ],
      "metadata": {
        "id": "k9P7Rk9hCnwd",
        "colab": {
          "base_uri": "https://localhost:8080/"
        },
        "outputId": "7efceb14-e492-4388-a5ca-3ddf6c8d38af"
      },
      "execution_count": null,
      "outputs": [
        {
          "output_type": "execute_result",
          "data": {
            "text/plain": [
              "(583, 11)"
            ]
          },
          "metadata": {},
          "execution_count": 57
        }
      ]
    },
    {
      "cell_type": "code",
      "source": [
        "#creating graphs\n",
        "Liver.hist(bins=50,figsize=(20,15))\n",
        "plt.show()"
      ],
      "metadata": {
        "id": "x5izlXKcc58M",
        "colab": {
          "base_uri": "https://localhost:8080/",
          "height": 702
        },
        "outputId": "56b37238-deca-46ce-e4fc-5b90f646456d"
      },
      "execution_count": null,
      "outputs": [
        {
          "output_type": "display_data",
          "data": {
            "text/plain": [
              "<Figure size 2000x1500 with 12 Axes>"
            ],
            "image/png": "[encoded data removed]"
          },
          "metadata": {}
        }
      ]
    },
    {
      "cell_type": "code",
      "source": [
        "#checking for missing values\n",
        "Liver.isnull().sum()"
      ],
      "metadata": {
        "id": "_qjb3ajAfQX0",
        "colab": {
          "base_uri": "https://localhost:8080/"
        },
        "outputId": "0532aa93-04c5-4812-a988-a33deea68cbe"
      },
      "execution_count": null,
      "outputs": [
        {
          "output_type": "execute_result",
          "data": {
            "text/plain": [
              "0     0\n",
              "1     0\n",
              "2     0\n",
              "3     0\n",
              "4     0\n",
              "5     0\n",
              "6     0\n",
              "7     0\n",
              "8     0\n",
              "9     4\n",
              "10    0\n",
              "dtype: int64"
            ]
          },
          "metadata": {},
          "execution_count": 59
        }
      ]
    },
    {
      "cell_type": "code",
      "source": [
        "msng.matrix(Liver)"
      ],
      "metadata": {
        "id": "vqoihd40fSok",
        "colab": {
          "base_uri": "https://localhost:8080/",
          "height": 411
        },
        "outputId": "4e30b050-4a0b-4285-a94c-f5b6d39fbe2e"
      },
      "execution_count": null,
      "outputs": [
        {
          "output_type": "execute_result",
          "data": {
            "text/plain": [
              "<Axes: >"
            ]
          },
          "metadata": {},
          "execution_count": 60
        },
        {
          "output_type": "display_data",
          "data": {
            "text/plain": [
              "<Figure size 2500x1000 with 2 Axes>"
            ],
            "image/png": "[encoded data removed]"
          },
          "metadata": {}
        }
      ]
    },
    {
      "cell_type": "code",
      "source": [
        "print(Liver[9])"
      ],
      "metadata": {
        "id": "ZJ-ruaDaqLcI",
        "colab": {
          "base_uri": "https://localhost:8080/"
        },
        "outputId": "6ee9a99c-277e-442a-e403-2d308e4c6a70"
      },
      "execution_count": null,
      "outputs": [
        {
          "output_type": "stream",
          "name": "stdout",
          "text": [
            "0      0.90\n",
            "1      0.74\n",
            "2      0.89\n",
            "3      1.00\n",
            "4      0.40\n",
            "       ... \n",
            "578    0.37\n",
            "579    1.10\n",
            "580    1.00\n",
            "581    1.00\n",
            "582    1.50\n",
            "Name: 9, Length: 583, dtype: float64\n"
          ]
        }
      ]
    },
    {
      "cell_type": "code",
      "source": [
        "#fullfiling missing data\n",
        "Liver[9]=Liver[9].replace(np.nan, Liver[9].median())"
      ],
      "metadata": {
        "id": "Rey6MPiOfncE"
      },
      "execution_count": null,
      "outputs": []
    },
    {
      "cell_type": "code",
      "source": [
        "#cheching again the data\n",
        "Liver.isnull().sum()"
      ],
      "metadata": {
        "id": "KHXfjXDQf5JL",
        "colab": {
          "base_uri": "https://localhost:8080/"
        },
        "outputId": "8793d420-f460-4100-e234-8848b1f41908"
      },
      "execution_count": null,
      "outputs": [
        {
          "output_type": "execute_result",
          "data": {
            "text/plain": [
              "0     0\n",
              "1     0\n",
              "2     0\n",
              "3     0\n",
              "4     0\n",
              "5     0\n",
              "6     0\n",
              "7     0\n",
              "8     0\n",
              "9     0\n",
              "10    0\n",
              "dtype: int64"
            ]
          },
          "metadata": {},
          "execution_count": 63
        }
      ]
    },
    {
      "cell_type": "code",
      "source": [
        "msng.matrix(Liver)"
      ],
      "metadata": {
        "id": "UP5OOmJlgAVE",
        "colab": {
          "base_uri": "https://localhost:8080/",
          "height": 411
        },
        "outputId": "ee53f719-0a50-467e-f0dd-4b0551e4494e"
      },
      "execution_count": null,
      "outputs": [
        {
          "output_type": "execute_result",
          "data": {
            "text/plain": [
              "<Axes: >"
            ]
          },
          "metadata": {},
          "execution_count": 64
        },
        {
          "output_type": "display_data",
          "data": {
            "text/plain": [
              "<Figure size 2500x1000 with 2 Axes>"
            ],
            "image/png": "[encoded data removed]"
          },
          "metadata": {}
        }
      ]
    },
    {
      "cell_type": "code",
      "source": [
        "Liver.corr()"
      ],
      "metadata": {
        "id": "z38hDCKbhDhh",
        "colab": {
          "base_uri": "https://localhost:8080/",
          "height": 420
        },
        "outputId": "901bc165-3d78-489f-efc1-f1d4adc4db53"
      },
      "execution_count": null,
      "outputs": [
        {
          "output_type": "stream",
          "name": "stderr",
          "text": [
            "<ipython-input-65-a462ac4365c6>:1: FutureWarning: The default value of numeric_only in DataFrame.corr is deprecated. In a future version, it will default to False. Select only valid columns or specify the value of numeric_only to silence this warning.\n",
            "  Liver.corr()\n"
          ]
        },
        {
          "output_type": "execute_result",
          "data": {
            "text/plain": [
              "          0         2         3         4         5         6         7   \\\n",
              "0   1.000000  0.011763  0.007529  0.080425 -0.086883 -0.019910 -0.187461   \n",
              "2   0.011763  1.000000  0.874618  0.206669  0.214065  0.237831 -0.008099   \n",
              "3   0.007529  0.874618  1.000000  0.234939  0.233894  0.257544 -0.000139   \n",
              "4   0.080425  0.206669  0.234939  1.000000  0.125680  0.167196 -0.028514   \n",
              "5  -0.086883  0.214065  0.233894  0.125680  1.000000  0.791966 -0.042518   \n",
              "6  -0.019910  0.237831  0.257544  0.167196  0.791966  1.000000 -0.025645   \n",
              "7  -0.187461 -0.008099 -0.000139 -0.028514 -0.042518 -0.025645  1.000000   \n",
              "8  -0.265924 -0.222250 -0.228531 -0.165453 -0.029742 -0.085290  0.784053   \n",
              "9  -0.215968 -0.206015 -0.199850 -0.233784 -0.002254 -0.069930  0.233828   \n",
              "10 -0.137351 -0.220208 -0.246046 -0.184866 -0.163416 -0.151934  0.035008   \n",
              "\n",
              "          8         9         10  \n",
              "0  -0.265924 -0.215968 -0.137351  \n",
              "2  -0.222250 -0.206015 -0.220208  \n",
              "3  -0.228531 -0.199850 -0.246046  \n",
              "4  -0.165453 -0.233784 -0.184866  \n",
              "5  -0.029742 -0.002254 -0.163416  \n",
              "6  -0.085290 -0.069930 -0.151934  \n",
              "7   0.784053  0.233828  0.035008  \n",
              "8   1.000000  0.686091  0.161388  \n",
              "9   0.686091  1.000000  0.162144  \n",
              "10  0.161388  0.162144  1.000000  "
            ],
            "text/html": [
              "\n",
              "\n",
              "  <div id=\"df-c8ac253f-aa17-472e-b73f-1d539b196f15\">\n",
              "    <div class=\"colab-df-container\">\n",
              "      <div>\n",
              "<style scoped>\n",
              "    .dataframe tbody tr th:only-of-type {\n",
              "        vertical-align: middle;\n",
              "    }\n",
              "\n",
              "    .dataframe tbody tr th {\n",
              "        vertical-align: top;\n",
              "    }\n",
              "\n",
              "    .dataframe thead th {\n",
              "        text-align: right;\n",
              "    }\n",
              "</style>\n",
              "<table border=\"1\" class=\"dataframe\">\n",
              "  <thead>\n",
              "    <tr style=\"text-align: right;\">\n",
              "      <th></th>\n",
              "      <th>0</th>\n",
              "      <th>2</th>\n",
              "      <th>3</th>\n",
              "      <th>4</th>\n",
              "      <th>5</th>\n",
              "      <th>6</th>\n",
              "      <th>7</th>\n",
              "      <th>8</th>\n",
              "      <th>9</th>\n",
              "      <th>10</th>\n",
              "    </tr>\n",
              "  </thead>\n",
              "  <tbody>\n",
              "    <tr>\n",
              "      <th>0</th>\n",
              "      <td>1.000000</td>\n",
              "      <td>0.011763</td>\n",
              "      <td>0.007529</td>\n",
              "      <td>0.080425</td>\n",
              "      <td>-0.086883</td>\n",
              "      <td>-0.019910</td>\n",
              "      <td>-0.187461</td>\n",
              "      <td>-0.265924</td>\n",
              "      <td>-0.215968</td>\n",
              "      <td>-0.137351</td>\n",
              "    </tr>\n",
              "    <tr>\n",
              "      <th>2</th>\n",
              "      <td>0.011763</td>\n",
              "      <td>1.000000</td>\n",
              "      <td>0.874618</td>\n",
              "      <td>0.206669</td>\n",
              "      <td>0.214065</td>\n",
              "      <td>0.237831</td>\n",
              "      <td>-0.008099</td>\n",
              "      <td>-0.222250</td>\n",
              "      <td>-0.206015</td>\n",
              "      <td>-0.220208</td>\n",
              "    </tr>\n",
              "    <tr>\n",
              "      <th>3</th>\n",
              "      <td>0.007529</td>\n",
              "      <td>0.874618</td>\n",
              "      <td>1.000000</td>\n",
              "      <td>0.234939</td>\n",
              "      <td>0.233894</td>\n",
              "      <td>0.257544</td>\n",
              "      <td>-0.000139</td>\n",
              "      <td>-0.228531</td>\n",
              "      <td>-0.199850</td>\n",
              "      <td>-0.246046</td>\n",
              "    </tr>\n",
              "    <tr>\n",
              "      <th>4</th>\n",
              "      <td>0.080425</td>\n",
              "      <td>0.206669</td>\n",
              "      <td>0.234939</td>\n",
              "      <td>1.000000</td>\n",
              "      <td>0.125680</td>\n",
              "      <td>0.167196</td>\n",
              "      <td>-0.028514</td>\n",
              "      <td>-0.165453</td>\n",
              "      <td>-0.233784</td>\n",
              "      <td>-0.184866</td>\n",
              "    </tr>\n",
              "    <tr>\n",
              "      <th>5</th>\n",
              "      <td>-0.086883</td>\n",
              "      <td>0.214065</td>\n",
              "      <td>0.233894</td>\n",
              "      <td>0.125680</td>\n",
              "      <td>1.000000</td>\n",
              "      <td>0.791966</td>\n",
              "      <td>-0.042518</td>\n",
              "      <td>-0.029742</td>\n",
              "      <td>-0.002254</td>\n",
              "      <td>-0.163416</td>\n",
              "    </tr>\n",
              "    <tr>\n",
              "      <th>6</th>\n",
              "      <td>-0.019910</td>\n",
              "      <td>0.237831</td>\n",
              "      <td>0.257544</td>\n",
              "      <td>0.167196</td>\n",
              "      <td>0.791966</td>\n",
              "      <td>1.000000</td>\n",
              "      <td>-0.025645</td>\n",
              "      <td>-0.085290</td>\n",
              "      <td>-0.069930</td>\n",
              "      <td>-0.151934</td>\n",
              "    </tr>\n",
              "    <tr>\n",
              "      <th>7</th>\n",
              "      <td>-0.187461</td>\n",
              "      <td>-0.008099</td>\n",
              "      <td>-0.000139</td>\n",
              "      <td>-0.028514</td>\n",
              "      <td>-0.042518</td>\n",
              "      <td>-0.025645</td>\n",
              "      <td>1.000000</td>\n",
              "      <td>0.784053</td>\n",
              "      <td>0.233828</td>\n",
              "      <td>0.035008</td>\n",
              "    </tr>\n",
              "    <tr>\n",
              "      <th>8</th>\n",
              "      <td>-0.265924</td>\n",
              "      <td>-0.222250</td>\n",
              "      <td>-0.228531</td>\n",
              "      <td>-0.165453</td>\n",
              "      <td>-0.029742</td>\n",
              "      <td>-0.085290</td>\n",
              "      <td>0.784053</td>\n",
              "      <td>1.000000</td>\n",
              "      <td>0.686091</td>\n",
              "      <td>0.161388</td>\n",
              "    </tr>\n",
              "    <tr>\n",
              "      <th>9</th>\n",
              "      <td>-0.215968</td>\n",
              "      <td>-0.206015</td>\n",
              "      <td>-0.199850</td>\n",
              "      <td>-0.233784</td>\n",
              "      <td>-0.002254</td>\n",
              "      <td>-0.069930</td>\n",
              "      <td>0.233828</td>\n",
              "      <td>0.686091</td>\n",
              "      <td>1.000000</td>\n",
              "      <td>0.162144</td>\n",
              "    </tr>\n",
              "    <tr>\n",
              "      <th>10</th>\n",
              "      <td>-0.137351</td>\n",
              "      <td>-0.220208</td>\n",
              "      <td>-0.246046</td>\n",
              "      <td>-0.184866</td>\n",
              "      <td>-0.163416</td>\n",
              "      <td>-0.151934</td>\n",
              "      <td>0.035008</td>\n",
              "      <td>0.161388</td>\n",
              "      <td>0.162144</td>\n",
              "      <td>1.000000</td>\n",
              "    </tr>\n",
              "  </tbody>\n",
              "</table>\n",
              "</div>\n",
              "      <button class=\"colab-df-convert\" onclick=\"convertToInteractive('df-c8ac253f-aa17-472e-b73f-1d539b196f15')\"\n",
              "              title=\"Convert this dataframe to an interactive table.\"\n",
              "              style=\"display:none;\">\n",
              "\n",
              "  <svg xmlns=\"http://www.w3.org/2000/svg\" height=\"24px\"viewBox=\"0 0 24 24\"\n",
              "       width=\"24px\">\n",
              "    <path d=\"M0 0h24v24H0V0z\" fill=\"none\"/>\n",
              "    <path d=\"M18.56 5.44l.94 2.06.94-2.06 2.06-.94-2.06-.94-.94-2.06-.94 2.06-2.06.94zm-11 1L8.5 8.5l.94-2.06 2.06-.94-2.06-.94L8.5 2.5l-.94 2.06-2.06.94zm10 10l.94 2.06.94-2.06 2.06-.94-2.06-.94-.94-2.06-.94 2.06-2.06.94z\"/><path d=\"M17.41 7.96l-1.37-1.37c-.4-.4-.92-.59-1.43-.59-.52 0-1.04.2-1.43.59L10.3 9.45l-7.72 7.72c-.78.78-.78 2.05 0 2.83L4 21.41c.39.39.9.59 1.41.59.51 0 1.02-.2 1.41-.59l7.78-7.78 2.81-2.81c.8-.78.8-2.07 0-2.86zM5.41 20L4 18.59l7.72-7.72 1.47 1.35L5.41 20z\"/>\n",
              "  </svg>\n",
              "      </button>\n",
              "\n",
              "\n",
              "\n",
              "    <div id=\"df-9d3b2d69-cac2-4ee2-a999-c9578d5291c2\">\n",
              "      <button class=\"colab-df-quickchart\" onclick=\"quickchart('df-9d3b2d69-cac2-4ee2-a999-c9578d5291c2')\"\n",
              "              title=\"Suggest charts.\"\n",
              "              style=\"display:none;\">\n",
              "\n",
              "<svg xmlns=\"http://www.w3.org/2000/svg\" height=\"24px\"viewBox=\"0 0 24 24\"\n",
              "     width=\"24px\">\n",
              "    <g>\n",
              "        <path d=\"M19 3H5c-1.1 0-2 .9-2 2v14c0 1.1.9 2 2 2h14c1.1 0 2-.9 2-2V5c0-1.1-.9-2-2-2zM9 17H7v-7h2v7zm4 0h-2V7h2v10zm4 0h-2v-4h2v4z\"/>\n",
              "    </g>\n",
              "</svg>\n",
              "      </button>\n",
              "    </div>\n",
              "\n",
              "<style>\n",
              "  .colab-df-quickchart {\n",
              "    background-color: #E8F0FE;\n",
              "    border: none;\n",
              "    border-radius: 50%;\n",
              "    cursor: pointer;\n",
              "    display: none;\n",
              "    fill: #1967D2;\n",
              "    height: 32px;\n",
              "    padding: 0 0 0 0;\n",
              "    width: 32px;\n",
              "  }\n",
              "\n",
              "  .colab-df-quickchart:hover {\n",
              "    background-color: #E2EBFA;\n",
              "    box-shadow: 0px 1px 2px rgba(60, 64, 67, 0.3), 0px 1px 3px 1px rgba(60, 64, 67, 0.15);\n",
              "    fill: #174EA6;\n",
              "  }\n",
              "\n",
              "  [theme=dark] .colab-df-quickchart {\n",
              "    background-color: #3B4455;\n",
              "    fill: #D2E3FC;\n",
              "  }\n",
              "\n",
              "  [theme=dark] .colab-df-quickchart:hover {\n",
              "    background-color: #434B5C;\n",
              "    box-shadow: 0px 1px 3px 1px rgba(0, 0, 0, 0.15);\n",
              "    filter: drop-shadow(0px 1px 2px rgba(0, 0, 0, 0.3));\n",
              "    fill: #FFFFFF;\n",
              "  }\n",
              "</style>\n",
              "\n",
              "    <script>\n",
              "      async function quickchart(key) {\n",
              "        const containerElement = document.querySelector('#' + key);\n",
              "        const charts = await google.colab.kernel.invokeFunction(\n",
              "            'suggestCharts', [key], {});\n",
              "      }\n",
              "    </script>\n",
              "\n",
              "      <script>\n",
              "\n",
              "function displayQuickchartButton(domScope) {\n",
              "  let quickchartButtonEl =\n",
              "    domScope.querySelector('#df-9d3b2d69-cac2-4ee2-a999-c9578d5291c2 button.colab-df-quickchart');\n",
              "  quickchartButtonEl.style.display =\n",
              "    google.colab.kernel.accessAllowed ? 'block' : 'none';\n",
              "}\n",
              "\n",
              "        displayQuickchartButton(document);\n",
              "      </script>\n",
              "      <style>\n",
              "    .colab-df-container {\n",
              "      display:flex;\n",
              "      flex-wrap:wrap;\n",
              "      gap: 12px;\n",
              "    }\n",
              "\n",
              "    .colab-df-convert {\n",
              "      background-color: #E8F0FE;\n",
              "      border: none;\n",
              "      border-radius: 50%;\n",
              "      cursor: pointer;\n",
              "      display: none;\n",
              "      fill: #1967D2;\n",
              "      height: 32px;\n",
              "      padding: 0 0 0 0;\n",
              "      width: 32px;\n",
              "    }\n",
              "\n",
              "    .colab-df-convert:hover {\n",
              "      background-color: #E2EBFA;\n",
              "      box-shadow: 0px 1px 2px rgba(60, 64, 67, 0.3), 0px 1px 3px 1px rgba(60, 64, 67, 0.15);\n",
              "      fill: #174EA6;\n",
              "    }\n",
              "\n",
              "    [theme=dark] .colab-df-convert {\n",
              "      background-color: #3B4455;\n",
              "      fill: #D2E3FC;\n",
              "    }\n",
              "\n",
              "    [theme=dark] .colab-df-convert:hover {\n",
              "      background-color: #434B5C;\n",
              "      box-shadow: 0px 1px 3px 1px rgba(0, 0, 0, 0.15);\n",
              "      filter: drop-shadow(0px 1px 2px rgba(0, 0, 0, 0.3));\n",
              "      fill: #FFFFFF;\n",
              "    }\n",
              "  </style>\n",
              "\n",
              "      <script>\n",
              "        const buttonEl =\n",
              "          document.querySelector('#df-c8ac253f-aa17-472e-b73f-1d539b196f15 button.colab-df-convert');\n",
              "        buttonEl.style.display =\n",
              "          google.colab.kernel.accessAllowed ? 'block' : 'none';\n",
              "\n",
              "        async function convertToInteractive(key) {\n",
              "          const element = document.querySelector('#df-c8ac253f-aa17-472e-b73f-1d539b196f15');\n",
              "          const dataTable =\n",
              "            await google.colab.kernel.invokeFunction('convertToInteractive',\n",
              "                                                     [key], {});\n",
              "          if (!dataTable) return;\n",
              "\n",
              "          const docLinkHtml = 'Like what you see? Visit the ' +\n",
              "            '<a target=\"_blank\" href=https://colab.research.google.com/notebooks/data_table.ipynb>data table notebook</a>'\n",
              "            + ' to learn more about interactive tables.';\n",
              "          element.innerHTML = '';\n",
              "          dataTable['output_type'] = 'display_data';\n",
              "          await google.colab.output.renderOutput(dataTable, element);\n",
              "          const docLink = document.createElement('div');\n",
              "          docLink.innerHTML = docLinkHtml;\n",
              "          element.appendChild(docLink);\n",
              "        }\n",
              "      </script>\n",
              "    </div>\n",
              "  </div>\n"
            ]
          },
          "metadata": {},
          "execution_count": 65
        }
      ]
    },
    {
      "cell_type": "code",
      "source": [
        "sns.heatmap(Liver.corr(), annot=True)"
      ],
      "metadata": {
        "id": "IpYKkJ3HhF_i",
        "colab": {
          "base_uri": "https://localhost:8080/",
          "height": 510
        },
        "outputId": "59b65b7e-3292-4ab3-cc03-fc543a38da3f"
      },
      "execution_count": null,
      "outputs": [
        {
          "output_type": "stream",
          "name": "stderr",
          "text": [
            "<ipython-input-66-9714b75b5c41>:1: FutureWarning: The default value of numeric_only in DataFrame.corr is deprecated. In a future version, it will default to False. Select only valid columns or specify the value of numeric_only to silence this warning.\n",
            "  sns.heatmap(Liver.corr(), annot=True)\n"
          ]
        },
        {
          "output_type": "execute_result",
          "data": {
            "text/plain": [
              "<Axes: >"
            ]
          },
          "metadata": {},
          "execution_count": 66
        },
        {
          "output_type": "display_data",
          "data": {
            "text/plain": [
              "<Figure size 640x480 with 2 Axes>"
            ],
            "image/png": "[encoded data removed]"
          },
          "metadata": {}
        }
      ]
    },
    {
      "cell_type": "markdown",
      "source": [
        "Separating dataframe to dependent (y) and independent (x) variables"
      ],
      "metadata": {
        "id": "Pgcep221hOiI"
      }
    },
    {
      "cell_type": "code",
      "source": [
        "print(Liver)"
      ],
      "metadata": {
        "id": "9YX7wHyqi96E",
        "colab": {
          "base_uri": "https://localhost:8080/"
        },
        "outputId": "dc9e8787-6d0c-41fd-e81b-d3e3ee7ef5f0"
      },
      "execution_count": null,
      "outputs": [
        {
          "output_type": "stream",
          "name": "stdout",
          "text": [
            "     0       1     2    3    4   5    6    7    8     9   10\n",
            "0    65  Female   0.7  0.1  187  16   18  6.8  3.3  0.90   1\n",
            "1    62    Male  10.9  5.5  699  64  100  7.5  3.2  0.74   1\n",
            "2    62    Male   7.3  4.1  490  60   68  7.0  3.3  0.89   1\n",
            "3    58    Male   1.0  0.4  182  14   20  6.8  3.4  1.00   1\n",
            "4    72    Male   3.9  2.0  195  27   59  7.3  2.4  0.40   1\n",
            "..   ..     ...   ...  ...  ...  ..  ...  ...  ...   ...  ..\n",
            "578  60    Male   0.5  0.1  500  20   34  5.9  1.6  0.37   2\n",
            "579  40    Male   0.6  0.1   98  35   31  6.0  3.2  1.10   1\n",
            "580  52    Male   0.8  0.2  245  48   49  6.4  3.2  1.00   1\n",
            "581  31    Male   1.3  0.5  184  29   32  6.8  3.4  1.00   1\n",
            "582  38    Male   1.0  0.3  216  21   24  7.3  4.4  1.50   2\n",
            "\n",
            "[583 rows x 11 columns]\n"
          ]
        }
      ]
    },
    {
      "cell_type": "markdown",
      "source": [
        "Separating dataframe to dependent (y) and independent (x) variables"
      ],
      "metadata": {
        "id": "EphOWrmdrR4Z"
      }
    },
    {
      "cell_type": "code",
      "source": [
        "y = Liver[10].values"
      ],
      "metadata": {
        "id": "9jrWFyIerX7K"
      },
      "execution_count": null,
      "outputs": []
    },
    {
      "cell_type": "code",
      "source": [
        "x = Liver"
      ],
      "metadata": {
        "id": "4h7EKTcvrus0"
      },
      "execution_count": null,
      "outputs": []
    },
    {
      "cell_type": "code",
      "source": [
        "x.drop(x.columns[-1], axis=1, inplace=True)"
      ],
      "metadata": {
        "id": "uGPOXQ8-r1n8"
      },
      "execution_count": null,
      "outputs": []
    },
    {
      "cell_type": "code",
      "source": [
        "print(y)"
      ],
      "metadata": {
        "id": "-B4lJfFzrk7b",
        "colab": {
          "base_uri": "https://localhost:8080/"
        },
        "outputId": "b9cdfab9-e0f8-46b2-fde4-21376187fb0f"
      },
      "execution_count": null,
      "outputs": [
        {
          "output_type": "stream",
          "name": "stdout",
          "text": [
            "[1 1 1 1 1 1 1 1 2 1 1 1 2 1 1 2 1 2 1 1 1 1 1 1 2 1 1 1 2 2 1 1 2 2 2 1 2\n",
            " 1 1 1 1 2 2 1 2 2 1 1 1 1 1 1 1 1 1 1 2 2 1 2 1 1 1 1 1 1 1 1 1 2 1 1 1 1\n",
            " 1 2 1 1 2 1 1 1 2 1 1 1 2 1 1 1 1 1 1 1 1 1 1 1 1 1 2 2 1 2 1 2 2 2 2 2 2\n",
            " 1 2 1 2 2 1 1 1 1 1 1 2 1 2 2 1 1 1 1 1 2 2 1 1 1 1 1 1 1 2 1 1 1 1 2 1 1\n",
            " 1 1 2 1 1 2 1 1 1 1 1 1 1 1 1 1 1 1 1 1 1 1 1 1 1 1 1 1 1 1 1 1 1 1 2 1 1\n",
            " 2 1 1 1 2 1 1 1 2 2 1 1 1 2 1 1 1 2 2 2 1 1 1 1 1 1 1 2 1 1 2 2 1 2 1 1 1\n",
            " 1 2 1 1 1 1 2 1 2 1 1 1 1 1 2 1 2 1 2 1 1 1 1 1 1 1 1 1 1 1 2 2 2 1 1 1 2\n",
            " 1 1 1 1 1 2 2 1 1 1 1 1 2 1 1 1 2 2 1 1 1 1 2 1 2 1 1 1 2 1 1 1 2 1 2 1 1\n",
            " 1 2 1 2 2 1 1 2 1 2 1 1 1 1 1 1 2 2 1 2 2 1 1 2 1 1 1 2 1 2 2 2 2 2 1 1 1\n",
            " 2 1 1 1 1 1 1 1 1 2 1 2 1 1 1 1 2 1 1 1 1 1 2 1 1 1 2 1 2 2 2 2 2 2 2 1 1\n",
            " 1 2 1 2 2 1 1 2 1 2 1 1 1 2 1 1 2 1 1 1 1 1 1 1 1 2 1 1 1 1 2 1 1 2 1 1 2\n",
            " 1 1 1 1 2 1 2 2 1 1 2 1 1 1 2 1 2 1 1 2 1 2 1 1 2 1 2 2 2 1 1 1 1 1 1 1 1\n",
            " 2 2 1 1 1 1 1 1 1 1 2 1 2 2 1 1 1 1 1 1 2 2 2 2 1 1 1 2 2 2 2 2 1 1 1 1 2\n",
            " 1 1 2 1 1 1 1 2 2 1 2 1 2 1 2 1 1 1 1 1 1 1 1 1 1 1 1 1 1 2 1 2 1 1 1 1 1\n",
            " 1 1 1 1 1 1 2 2 1 1 1 1 2 1 2 1 2 1 1 1 1 2 2 2 2 1 1 2 1 1 1 1 1 2 1 1 1\n",
            " 1 1 1 1 1 1 1 1 1 2 1 2 1 1 1 1 1 1 1 1 1 1 1 2 1 1 1 2]\n"
          ]
        }
      ]
    },
    {
      "cell_type": "code",
      "source": [
        "print(x)"
      ],
      "metadata": {
        "id": "-do_DpTwuoel",
        "colab": {
          "base_uri": "https://localhost:8080/"
        },
        "outputId": "a80cd297-3ddb-4605-99d4-02804d2720eb"
      },
      "execution_count": null,
      "outputs": [
        {
          "output_type": "stream",
          "name": "stdout",
          "text": [
            "      0       1     2    3    4   5    6    7    8     9\n",
            "0    65  Female   0.7  0.1  187  16   18  6.8  3.3  0.90\n",
            "1    62    Male  10.9  5.5  699  64  100  7.5  3.2  0.74\n",
            "2    62    Male   7.3  4.1  490  60   68  7.0  3.3  0.89\n",
            "3    58    Male   1.0  0.4  182  14   20  6.8  3.4  1.00\n",
            "4    72    Male   3.9  2.0  195  27   59  7.3  2.4  0.40\n",
            "..   ..     ...   ...  ...  ...  ..  ...  ...  ...   ...\n",
            "578  60    Male   0.5  0.1  500  20   34  5.9  1.6  0.37\n",
            "579  40    Male   0.6  0.1   98  35   31  6.0  3.2  1.10\n",
            "580  52    Male   0.8  0.2  245  48   49  6.4  3.2  1.00\n",
            "581  31    Male   1.3  0.5  184  29   32  6.8  3.4  1.00\n",
            "582  38    Male   1.0  0.3  216  21   24  7.3  4.4  1.50\n",
            "\n",
            "[583 rows x 10 columns]\n"
          ]
        }
      ]
    },
    {
      "cell_type": "code",
      "source": [
        "print(x)"
      ],
      "metadata": {
        "id": "O6JW_e0pr-XS",
        "colab": {
          "base_uri": "https://localhost:8080/"
        },
        "outputId": "b1c02db1-4602-4685-d4e1-00acd4950441"
      },
      "execution_count": null,
      "outputs": [
        {
          "output_type": "stream",
          "name": "stdout",
          "text": [
            "      0       1     2    3    4   5    6    7    8     9\n",
            "0    65  Female   0.7  0.1  187  16   18  6.8  3.3  0.90\n",
            "1    62    Male  10.9  5.5  699  64  100  7.5  3.2  0.74\n",
            "2    62    Male   7.3  4.1  490  60   68  7.0  3.3  0.89\n",
            "3    58    Male   1.0  0.4  182  14   20  6.8  3.4  1.00\n",
            "4    72    Male   3.9  2.0  195  27   59  7.3  2.4  0.40\n",
            "..   ..     ...   ...  ...  ...  ..  ...  ...  ...   ...\n",
            "578  60    Male   0.5  0.1  500  20   34  5.9  1.6  0.37\n",
            "579  40    Male   0.6  0.1   98  35   31  6.0  3.2  1.10\n",
            "580  52    Male   0.8  0.2  245  48   49  6.4  3.2  1.00\n",
            "581  31    Male   1.3  0.5  184  29   32  6.8  3.4  1.00\n",
            "582  38    Male   1.0  0.3  216  21   24  7.3  4.4  1.50\n",
            "\n",
            "[583 rows x 10 columns]\n"
          ]
        }
      ]
    },
    {
      "cell_type": "code",
      "source": [
        "#Dictionary\n",
        "word2number = {'Male': 1, 'Female':2}\n",
        "\n",
        "#converting sex to number\n",
        "x[1] = x[1].replace(word2number)"
      ],
      "metadata": {
        "id": "viHQacNk5h0J"
      },
      "execution_count": null,
      "outputs": []
    },
    {
      "cell_type": "code",
      "source": [
        "from sklearn.preprocessing import StandardScaler\n",
        "scaler = StandardScaler()"
      ],
      "metadata": {
        "id": "uNzotxjOwLm_"
      },
      "execution_count": null,
      "outputs": []
    },
    {
      "cell_type": "code",
      "source": [
        "from sklearn.model_selection import train_test_split"
      ],
      "metadata": {
        "id": "NghtrwmYwRNq"
      },
      "execution_count": null,
      "outputs": []
    },
    {
      "cell_type": "code",
      "source": [
        "# Split dataset into training set and test set\n",
        "x_train, x_test, y_train, y_test = train_test_split(x, y, test_size=0.3, random_state=42)"
      ],
      "metadata": {
        "id": "aq9HpGHhwUgT"
      },
      "execution_count": null,
      "outputs": []
    },
    {
      "cell_type": "code",
      "source": [
        "scaler = StandardScaler()\n",
        "X_train_sc = scaler.fit_transform(x_train)\n",
        "X_test_sc = scaler.transform(x_test)"
      ],
      "metadata": {
        "id": "BgR8do6v-wla"
      },
      "execution_count": null,
      "outputs": []
    },
    {
      "cell_type": "markdown",
      "source": [
        "#Trying Logistic Regression"
      ],
      "metadata": {
        "id": "BtxKo3wT1LsZ"
      }
    },
    {
      "cell_type": "code",
      "source": [
        "from sklearn import linear_model\n",
        "lr = linear_model.LogisticRegression(penalty=None, max_iter=30000)"
      ],
      "metadata": {
        "id": "phQhInWm0-De"
      },
      "execution_count": null,
      "outputs": []
    },
    {
      "cell_type": "code",
      "source": [
        "lr.fit(x_train, y_train)"
      ],
      "metadata": {
        "id": "kVTIEY181d_l",
        "colab": {
          "base_uri": "https://localhost:8080/",
          "height": 75
        },
        "outputId": "97af7593-661a-4c2c-e39e-4a493a7f5626"
      },
      "execution_count": null,
      "outputs": [
        {
          "output_type": "execute_result",
          "data": {
            "text/plain": [
              "LogisticRegression(max_iter=30000, penalty=None)"
            ],
            "text/html": [
              "<style>#sk-container-id-2 {color: black;background-color: white;}#sk-container-id-2 pre{padding: 0;}#sk-container-id-2 div.sk-toggleable {background-color: white;}#sk-container-id-2 label.sk-toggleable__label {cursor: pointer;display: block;width: 100%;margin-bottom: 0;padding: 0.3em;box-sizing: border-box;text-align: center;}#sk-container-id-2 label.sk-toggleable__label-arrow:before {content: \"▸\";float: left;margin-right: 0.25em;color: #696969;}#sk-container-id-2 label.sk-toggleable__label-arrow:hover:before {color: black;}#sk-container-id-2 div.sk-estimator:hover label.sk-toggleable__label-arrow:before {color: black;}#sk-container-id-2 div.sk-toggleable__content {max-height: 0;max-width: 0;overflow: hidden;text-align: left;background-color: #f0f8ff;}#sk-container-id-2 div.sk-toggleable__content pre {margin: 0.2em;color: black;border-radius: 0.25em;background-color: #f0f8ff;}#sk-container-id-2 input.sk-toggleable__control:checked~div.sk-toggleable__content {max-height: 200px;max-width: 100%;overflow: auto;}#sk-container-id-2 input.sk-toggleable__control:checked~label.sk-toggleable__label-arrow:before {content: \"▾\";}#sk-container-id-2 div.sk-estimator input.sk-toggleable__control:checked~label.sk-toggleable__label {background-color: #d4ebff;}#sk-container-id-2 div.sk-label input.sk-toggleable__control:checked~label.sk-toggleable__label {background-color: #d4ebff;}#sk-container-id-2 input.sk-hidden--visually {border: 0;clip: rect(1px 1px 1px 1px);clip: rect(1px, 1px, 1px, 1px);height: 1px;margin: -1px;overflow: hidden;padding: 0;position: absolute;width: 1px;}#sk-container-id-2 div.sk-estimator {font-family: monospace;background-color: #f0f8ff;border: 1px dotted black;border-radius: 0.25em;box-sizing: border-box;margin-bottom: 0.5em;}#sk-container-id-2 div.sk-estimator:hover {background-color: #d4ebff;}#sk-container-id-2 div.sk-parallel-item::after {content: \"\";width: 100%;border-bottom: 1px solid gray;flex-grow: 1;}#sk-container-id-2 div.sk-label:hover label.sk-toggleable__label {background-color: #d4ebff;}#sk-container-id-2 div.sk-serial::before {content: \"\";position: absolute;border-left: 1px solid gray;box-sizing: border-box;top: 0;bottom: 0;left: 50%;z-index: 0;}#sk-container-id-2 div.sk-serial {display: flex;flex-direction: column;align-items: center;background-color: white;padding-right: 0.2em;padding-left: 0.2em;position: relative;}#sk-container-id-2 div.sk-item {position: relative;z-index: 1;}#sk-container-id-2 div.sk-parallel {display: flex;align-items: stretch;justify-content: center;background-color: white;position: relative;}#sk-container-id-2 div.sk-item::before, #sk-container-id-2 div.sk-parallel-item::before {content: \"\";position: absolute;border-left: 1px solid gray;box-sizing: border-box;top: 0;bottom: 0;left: 50%;z-index: -1;}#sk-container-id-2 div.sk-parallel-item {display: flex;flex-direction: column;z-index: 1;position: relative;background-color: white;}#sk-container-id-2 div.sk-parallel-item:first-child::after {align-self: flex-end;width: 50%;}#sk-container-id-2 div.sk-parallel-item:last-child::after {align-self: flex-start;width: 50%;}#sk-container-id-2 div.sk-parallel-item:only-child::after {width: 0;}#sk-container-id-2 div.sk-dashed-wrapped {border: 1px dashed gray;margin: 0 0.4em 0.5em 0.4em;box-sizing: border-box;padding-bottom: 0.4em;background-color: white;}#sk-container-id-2 div.sk-label label {font-family: monospace;font-weight: bold;display: inline-block;line-height: 1.2em;}#sk-container-id-2 div.sk-label-container {text-align: center;}#sk-container-id-2 div.sk-container {/* jupyter's `normalize.less` sets `[hidden] { display: none; }` but bootstrap.min.css set `[hidden] { display: none !important; }` so we also need the `!important` here to be able to override the default hidden behavior on the sphinx rendered scikit-learn.org. See: https://github.com/scikit-learn/scikit-learn/issues/21755 */display: inline-block !important;position: relative;}#sk-container-id-2 div.sk-text-repr-fallback {display: none;}</style><div id=\"sk-container-id-2\" class=\"sk-top-container\"><div class=\"sk-text-repr-fallback\"><pre>LogisticRegression(max_iter=30000, penalty=None)</pre><b>In a Jupyter environment, please rerun this cell to show the HTML representation or trust the notebook. <br />On GitHub, the HTML representation is unable to render, please try loading this page with nbviewer.org.</b></div><div class=\"sk-container\" hidden><div class=\"sk-item\"><div class=\"sk-estimator sk-toggleable\"><input class=\"sk-toggleable__control sk-hidden--visually\" id=\"sk-estimator-id-2\" type=\"checkbox\" checked><label for=\"sk-estimator-id-2\" class=\"sk-toggleable__label sk-toggleable__label-arrow\">LogisticRegression</label><div class=\"sk-toggleable__content\"><pre>LogisticRegression(max_iter=30000, penalty=None)</pre></div></div></div></div></div>"
            ]
          },
          "metadata": {},
          "execution_count": 81
        }
      ]
    },
    {
      "cell_type": "code",
      "source": [
        "y_hat_test = lr.predict(x_test)\n",
        "\n",
        "\n",
        "print(y_hat_test)\n",
        "\n",
        "print(lr.coef_)"
      ],
      "metadata": {
        "id": "xCQSleeC1feH",
        "colab": {
          "base_uri": "https://localhost:8080/"
        },
        "outputId": "982b84c0-0dec-403d-9d33-2ea01459563e"
      },
      "execution_count": null,
      "outputs": [
        {
          "output_type": "stream",
          "name": "stdout",
          "text": [
            "[2 1 1 1 1 1 1 1 2 1 1 1 2 2 1 1 1 1 1 1 1 1 1 1 1 1 1 1 1 1 1 1 1 1 2 1 1\n",
            " 1 1 1 1 2 1 1 1 1 2 1 1 1 1 1 1 1 1 2 1 2 1 1 1 1 1 1 1 1 1 1 1 1 1 1 1 2\n",
            " 1 1 2 1 2 1 1 1 1 1 1 1 2 1 1 1 1 1 1 1 1 1 1 1 2 2 1 1 1 1 1 1 1 1 1 1 2\n",
            " 1 1 1 1 2 2 1 1 1 1 1 1 1 1 1 1 1 1 1 1 1 1 1 1 1 1 2 1 1 1 1 1 2 2 2 1 1\n",
            " 1 1 1 1 2 1 1 1 1 1 2 1 1 1 1 2 1 1 1 1 1 1 1 1 2 1 1]\n",
            "[[-1.03585312e-02  1.40310209e-01 -6.61553375e-03 -3.11347201e-01\n",
            "  -1.09878902e-03 -1.23836374e-02 -1.85189845e-03 -9.89080563e-01\n",
            "   1.93008583e+00 -1.85640277e+00]]\n"
          ]
        }
      ]
    },
    {
      "cell_type": "code",
      "source": [
        "#calculating accuracy\n",
        "from sklearn import metrics\n",
        "\n",
        "acc = metrics.accuracy_score(y_test, y_hat_test)\n",
        "absolute_error= metrics.mean_absolute_error(y_test, y_hat_test)\n",
        "\n",
        "print('Accuracy = {}'.format(acc))\n",
        "print('Absolute Error = {}'.format(absolute_error))"
      ],
      "metadata": {
        "id": "j-XS__0unGz7",
        "colab": {
          "base_uri": "https://localhost:8080/"
        },
        "outputId": "79d44ec3-fa7e-488c-cc0e-f8b6dfa950c1"
      },
      "execution_count": null,
      "outputs": [
        {
          "output_type": "stream",
          "name": "stdout",
          "text": [
            "Accuracy = 0.7314285714285714\n",
            "Absolute Error = 0.26857142857142857\n"
          ]
        }
      ]
    },
    {
      "cell_type": "markdown",
      "source": [
        "Logistic Regression: Accuracy = 0.7314285714285714\n",
        "Absolute Error = 0.26857142857142857"
      ],
      "metadata": {
        "id": "fr78vreZGub5"
      }
    },
    {
      "cell_type": "markdown",
      "source": [
        "#Trying TensorFlow"
      ],
      "metadata": {
        "id": "1ZBhs9paHjFA"
      }
    },
    {
      "cell_type": "code",
      "source": [
        "import keras\n",
        "y_train_c = keras.utils.to_categorical(y_train, num_classes=10)\n",
        "y_test_c = keras.utils.to_categorical(y_test, num_classes=10)"
      ],
      "metadata": {
        "id": "pTVwyN_DPqhe"
      },
      "execution_count": null,
      "outputs": []
    },
    {
      "cell_type": "code",
      "source": [
        "# print(y_train_c)"
      ],
      "metadata": {
        "id": "JGc8GiP2kHyr"
      },
      "execution_count": null,
      "outputs": []
    },
    {
      "cell_type": "code",
      "source": [
        "print(y_train)"
      ],
      "metadata": {
        "id": "jpN2DLqUoCeh",
        "colab": {
          "base_uri": "https://localhost:8080/"
        },
        "outputId": "9a0a46e0-e34e-43a2-9b05-0068f27061c8"
      },
      "execution_count": null,
      "outputs": [
        {
          "output_type": "stream",
          "name": "stdout",
          "text": [
            "[1 1 1 1 1 1 2 2 1 1 1 1 1 1 2 2 1 2 1 1 1 1 1 2 1 1 1 2 1 1 1 1 1 1 2 2 1\n",
            " 1 2 1 2 1 1 1 1 1 1 1 2 2 1 2 1 2 2 1 1 1 1 2 1 1 1 1 1 1 1 2 1 1 2 2 2 1\n",
            " 1 1 1 2 2 1 1 1 2 1 1 1 1 1 1 1 2 2 2 2 1 1 1 1 1 2 1 2 1 1 1 1 1 1 1 1 1\n",
            " 1 1 1 2 1 1 1 1 1 1 1 1 2 1 2 2 2 1 2 1 1 1 1 1 1 1 1 1 1 1 1 1 1 2 2 1 2\n",
            " 2 1 2 1 2 1 1 2 2 2 1 1 1 2 1 2 2 1 1 1 2 2 2 1 2 1 1 1 2 1 1 1 2 1 2 1 2\n",
            " 2 1 2 1 1 1 1 2 2 1 2 2 1 1 1 1 1 2 1 1 1 2 1 1 2 1 2 1 1 1 1 2 1 1 2 1 1\n",
            " 1 1 1 1 1 2 2 1 2 1 2 1 1 1 2 1 1 1 1 1 1 1 2 1 2 1 2 2 1 1 2 1 1 1 1 1 2\n",
            " 1 2 1 1 2 1 1 1 1 1 1 2 1 1 1 1 1 2 2 1 1 1 1 1 1 2 1 1 1 1 1 1 2 1 1 2 1\n",
            " 2 1 1 1 2 1 2 1 2 2 1 2 1 1 1 1 2 1 1 1 1 1 1 2 1 1 2 1 1 1 2 2 2 2 1 2 1\n",
            " 1 1 1 2 1 2 1 1 1 1 1 1 1 1 1 1 1 1 2 1 1 1 1 1 2 1 1 2 2 1 1 1 1 1 2 1 1\n",
            " 1 1 1 1 1 1 2 2 2 1 2 2 1 2 1 1 2 1 1 2 2 1 1 1 1 1 1 1 1 1 2 1 1 1 2 1 2\n",
            " 1]\n"
          ]
        }
      ]
    },
    {
      "cell_type": "code",
      "source": [
        "Liver.shape"
      ],
      "metadata": {
        "id": "JdMTM6ZfHnQm",
        "colab": {
          "base_uri": "https://localhost:8080/"
        },
        "outputId": "9a477f0f-73f3-465e-eb34-a9e70f7d771d"
      },
      "execution_count": null,
      "outputs": [
        {
          "output_type": "execute_result",
          "data": {
            "text/plain": [
              "(583, 10)"
            ]
          },
          "metadata": {},
          "execution_count": 88
        }
      ]
    },
    {
      "cell_type": "code",
      "source": [
        "x_train.shape"
      ],
      "metadata": {
        "id": "bU8kr9788umW",
        "colab": {
          "base_uri": "https://localhost:8080/"
        },
        "outputId": "64e2206f-b342-4224-e8f6-585e1bfbc699"
      },
      "execution_count": null,
      "outputs": [
        {
          "output_type": "execute_result",
          "data": {
            "text/plain": [
              "(408, 10)"
            ]
          },
          "metadata": {},
          "execution_count": 89
        }
      ]
    },
    {
      "cell_type": "code",
      "source": [
        "from tensorflow import keras\n",
        "from keras import layers\n",
        "\n",
        "num_classes = 10\n",
        "\n",
        "model = keras.Sequential([\n",
        "    layers.Input(shape=(10,)),\n",
        "    layers.Dense(20, activation='relu',),\n",
        "    layers.Dense(20, activation='relu'),\n",
        "    layers.Dense(20, activation='relu'),\n",
        "    layers.Dense(num_classes, activation='sigmoid')\n",
        "])\n",
        "model.summary()"
      ],
      "metadata": {
        "id": "yo81wQ2vzaBd",
        "colab": {
          "base_uri": "https://localhost:8080/"
        },
        "outputId": "59fb0074-1200-4bb7-9ab5-a3d240378ec4"
      },
      "execution_count": null,
      "outputs": [
        {
          "output_type": "stream",
          "name": "stdout",
          "text": [
            "Model: \"sequential_1\"\n",
            "_________________________________________________________________\n",
            " Layer (type)                Output Shape              Param #   \n",
            "=================================================================\n",
            " dense_4 (Dense)             (None, 20)                220       \n",
            "                                                                 \n",
            " dense_5 (Dense)             (None, 20)                420       \n",
            "                                                                 \n",
            " dense_6 (Dense)             (None, 20)                420       \n",
            "                                                                 \n",
            " dense_7 (Dense)             (None, 10)                210       \n",
            "                                                                 \n",
            "=================================================================\n",
            "Total params: 1,270\n",
            "Trainable params: 1,270\n",
            "Non-trainable params: 0\n",
            "_________________________________________________________________\n"
          ]
        }
      ]
    },
    {
      "cell_type": "code",
      "source": [
        "#from keras.optimizers import SGD"
      ],
      "metadata": {
        "id": "hpYh8mTIMMes"
      },
      "execution_count": null,
      "outputs": []
    },
    {
      "cell_type": "code",
      "source": [
        "#model.compile( optimizer='SGD', loss='mean_squared_error', metrics=[\"accuracy\"])"
      ],
      "metadata": {
        "id": "mKOnbXOLnXl5"
      },
      "execution_count": null,
      "outputs": []
    },
    {
      "cell_type": "code",
      "source": [
        "model.compile( optimizer='adam', loss=\"categorical_crossentropy\", metrics=[\"accuracy\"])\n"
      ],
      "metadata": {
        "id": "IfC8m1rrMPO9"
      },
      "execution_count": null,
      "outputs": []
    },
    {
      "cell_type": "code",
      "source": [
        "model.fit(x_train, y_train_c, epochs=20, batch_size=32)"
      ],
      "metadata": {
        "id": "oW31unXsnDCI",
        "colab": {
          "base_uri": "https://localhost:8080/"
        },
        "outputId": "99a04468-622e-496d-98f8-2b40274d8e3e"
      },
      "execution_count": null,
      "outputs": [
        {
          "output_type": "stream",
          "name": "stdout",
          "text": [
            "Epoch 1/20\n",
            "13/13 [==============================] - 1s 2ms/step - loss: 88.1252 - accuracy: 0.0074 \n",
            "Epoch 2/20\n",
            "13/13 [==============================] - 0s 1ms/step - loss: 47.1343 - accuracy: 0.1103\n",
            "Epoch 3/20\n",
            "13/13 [==============================] - 0s 1ms/step - loss: 23.6242 - accuracy: 0.0882\n",
            "Epoch 4/20\n",
            "13/13 [==============================] - 0s 2ms/step - loss: 8.6123 - accuracy: 0.0931\n",
            "Epoch 5/20\n",
            "13/13 [==============================] - 0s 2ms/step - loss: 1.5246 - accuracy: 0.6103\n",
            "Epoch 6/20\n",
            "13/13 [==============================] - 0s 2ms/step - loss: 1.1181 - accuracy: 0.6936\n",
            "Epoch 7/20\n",
            "13/13 [==============================] - 0s 2ms/step - loss: 0.7923 - accuracy: 0.6054\n",
            "Epoch 8/20\n",
            "13/13 [==============================] - 0s 2ms/step - loss: 0.7298 - accuracy: 0.6716\n",
            "Epoch 9/20\n",
            "13/13 [==============================] - 0s 1ms/step - loss: 0.6852 - accuracy: 0.6422\n",
            "Epoch 10/20\n",
            "13/13 [==============================] - 0s 2ms/step - loss: 0.6578 - accuracy: 0.6789\n",
            "Epoch 11/20\n",
            "13/13 [==============================] - 0s 2ms/step - loss: 0.6353 - accuracy: 0.6789\n",
            "Epoch 12/20\n",
            "13/13 [==============================] - 0s 2ms/step - loss: 0.6323 - accuracy: 0.6618\n",
            "Epoch 13/20\n",
            "13/13 [==============================] - 0s 2ms/step - loss: 0.6234 - accuracy: 0.6716\n",
            "Epoch 14/20\n",
            "13/13 [==============================] - 0s 2ms/step - loss: 0.6164 - accuracy: 0.6814\n",
            "Epoch 15/20\n",
            "13/13 [==============================] - 0s 2ms/step - loss: 0.6068 - accuracy: 0.6740\n",
            "Epoch 16/20\n",
            "13/13 [==============================] - 0s 2ms/step - loss: 0.5939 - accuracy: 0.6814\n",
            "Epoch 17/20\n",
            "13/13 [==============================] - 0s 1ms/step - loss: 0.5904 - accuracy: 0.7010\n",
            "Epoch 18/20\n",
            "13/13 [==============================] - 0s 2ms/step - loss: 0.5772 - accuracy: 0.6789\n",
            "Epoch 19/20\n",
            "13/13 [==============================] - 0s 1ms/step - loss: 0.5717 - accuracy: 0.6936\n",
            "Epoch 20/20\n",
            "13/13 [==============================] - 0s 1ms/step - loss: 0.5740 - accuracy: 0.6936\n"
          ]
        },
        {
          "output_type": "execute_result",
          "data": {
            "text/plain": [
              "<keras.callbacks.History at 0x782450f8fdf0>"
            ]
          },
          "metadata": {},
          "execution_count": 94
        }
      ]
    },
    {
      "cell_type": "code",
      "source": [
        "model.fit(x_train, y_train_c, epochs=20, batch_size=32)"
      ],
      "metadata": {
        "id": "HCaIU9sZBWoh",
        "colab": {
          "base_uri": "https://localhost:8080/"
        },
        "outputId": "163692e1-c1f5-4990-fd48-a8911147f616"
      },
      "execution_count": null,
      "outputs": [
        {
          "output_type": "stream",
          "name": "stdout",
          "text": [
            "Epoch 1/20\n",
            "13/13 [==============================] - 0s 2ms/step - loss: 0.5742 - accuracy: 0.7083\n",
            "Epoch 2/20\n",
            "13/13 [==============================] - 0s 2ms/step - loss: 0.5606 - accuracy: 0.7255\n",
            "Epoch 3/20\n",
            "13/13 [==============================] - 0s 2ms/step - loss: 0.5622 - accuracy: 0.7010\n",
            "Epoch 4/20\n",
            "13/13 [==============================] - 0s 1ms/step - loss: 0.5540 - accuracy: 0.7059\n",
            "Epoch 5/20\n",
            "13/13 [==============================] - 0s 2ms/step - loss: 0.5537 - accuracy: 0.7230\n",
            "Epoch 6/20\n",
            "13/13 [==============================] - 0s 1ms/step - loss: 0.5508 - accuracy: 0.7108\n",
            "Epoch 7/20\n",
            "13/13 [==============================] - 0s 2ms/step - loss: 0.5513 - accuracy: 0.7230\n",
            "Epoch 8/20\n",
            "13/13 [==============================] - 0s 1ms/step - loss: 0.5463 - accuracy: 0.7157\n",
            "Epoch 9/20\n",
            "13/13 [==============================] - 0s 1ms/step - loss: 0.5413 - accuracy: 0.7230\n",
            "Epoch 10/20\n",
            "13/13 [==============================] - 0s 2ms/step - loss: 0.5517 - accuracy: 0.6912\n",
            "Epoch 11/20\n",
            "13/13 [==============================] - 0s 3ms/step - loss: 0.5535 - accuracy: 0.7034\n",
            "Epoch 12/20\n",
            "13/13 [==============================] - 0s 2ms/step - loss: 0.5459 - accuracy: 0.7230\n",
            "Epoch 13/20\n",
            "13/13 [==============================] - 0s 2ms/step - loss: 0.5320 - accuracy: 0.7206\n",
            "Epoch 14/20\n",
            "13/13 [==============================] - 0s 2ms/step - loss: 0.5464 - accuracy: 0.7132\n",
            "Epoch 15/20\n",
            "13/13 [==============================] - 0s 1ms/step - loss: 0.5397 - accuracy: 0.7279\n",
            "Epoch 16/20\n",
            "13/13 [==============================] - 0s 1ms/step - loss: 0.5355 - accuracy: 0.7304\n",
            "Epoch 17/20\n",
            "13/13 [==============================] - 0s 1ms/step - loss: 0.5331 - accuracy: 0.7059\n",
            "Epoch 18/20\n",
            "13/13 [==============================] - 0s 3ms/step - loss: 0.5261 - accuracy: 0.7034\n",
            "Epoch 19/20\n",
            "13/13 [==============================] - 0s 2ms/step - loss: 0.5398 - accuracy: 0.7304\n",
            "Epoch 20/20\n",
            "13/13 [==============================] - 0s 3ms/step - loss: 0.5437 - accuracy: 0.7157\n"
          ]
        },
        {
          "output_type": "execute_result",
          "data": {
            "text/plain": [
              "<keras.callbacks.History at 0x782450f8e740>"
            ]
          },
          "metadata": {},
          "execution_count": 96
        }
      ]
    },
    {
      "cell_type": "code",
      "source": [
        "###### EVALUATE MODEL HERE ( .evaluate() ) ######\n",
        "\n",
        "score = model.evaluate(x_test, y_test_c, verbose = 'auto')\n",
        "\n",
        "print(\"Test loss:\", score[0])\n",
        "print(\"Test accuracy:\", score[1])"
      ],
      "metadata": {
        "id": "SSqdpmy5p0gK",
        "colab": {
          "base_uri": "https://localhost:8080/"
        },
        "outputId": "bc5d8c25-f7d9-42b1-ce62-69b2d31cd7be"
      },
      "execution_count": null,
      "outputs": [
        {
          "output_type": "stream",
          "name": "stdout",
          "text": [
            "6/6 [==============================] - 0s 2ms/step - loss: 0.5308 - accuracy: 0.6971\n",
            "Test loss: 0.5307914614677429\n",
            "Test accuracy: 0.6971428394317627\n"
          ]
        }
      ]
    }
  ]
}